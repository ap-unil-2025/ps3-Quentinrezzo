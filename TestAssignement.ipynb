{
 "cells": [
  {
   "cell_type": "code",
   "execution_count": 52,
   "id": "130319da-6e48-4e23-a794-9eac873ced88",
   "metadata": {},
   "outputs": [],
   "source": [
    "def celsius_to_fahrenheit(celsius):\n",
    "    \"\"\"\n",
    "    Convert Celsius to Fahrenheit.\n",
    "    Formula: F = (celsius × 9/5) + 32\n",
    "\n",
    "    Args:\n",
    "        celsius (float): Temperature in Celsius\n",
    "\n",
    "    Returns:\n",
    "        float: Temperature in Fahrenheit\n",
    "    \"\"\"\n",
    "    return (celsius * 9/5) + 32"
   ]
  },
  {
   "cell_type": "code",
   "execution_count": 57,
   "id": "3fcf18ab-6ed5-42b7-a044-bc6b64f90612",
   "metadata": {},
   "outputs": [
    {
     "name": "stdout",
     "output_type": "stream",
     "text": [
      "32.0\n",
      "212.0\n"
     ]
    }
   ],
   "source": [
    "print(celsius_to_fahrenheit(0))\n",
    "print(celsius_to_fahrenheit(100))"
   ]
  },
  {
   "cell_type": "code",
   "execution_count": 54,
   "id": "147312b6-750c-49fa-a535-d78af530b8bf",
   "metadata": {},
   "outputs": [],
   "source": [
    "def fahrenheit_to_celsius(fahrenheit):\n",
    "    \"\"\"\n",
    "    Convert Fahrenheit to Celsius.\n",
    "    Formula: C = (F - 32) × 5/9\n",
    "\n",
    "    Args:\n",
    "        fahrenheit (float): Temperature in Fahrenheit\n",
    "\n",
    "    Returns:\n",
    "        float: Temperature in Celsius\n",
    "    \"\"\"\n",
    "    return (fahrenheit - 32) *5/9"
   ]
  },
  {
   "cell_type": "code",
   "execution_count": 55,
   "id": "ce73a075-74d0-4fe2-82b5-e91bfff5e952",
   "metadata": {},
   "outputs": [
    {
     "name": "stdout",
     "output_type": "stream",
     "text": [
      "-12.222222222222221\n"
     ]
    }
   ],
   "source": [
    "print(fahrenheit_to_celsius(10))"
   ]
  },
  {
   "cell_type": "code",
   "execution_count": null,
   "id": "10e57ee9-177a-4dc0-8cf2-9ac89b378368",
   "metadata": {},
   "outputs": [],
   "source": []
  }
 ],
 "metadata": {
  "kernelspec": {
   "display_name": "Python 3 (ipykernel)",
   "language": "python",
   "name": "python3"
  },
  "language_info": {
   "codemirror_mode": {
    "name": "ipython",
    "version": 3
   },
   "file_extension": ".py",
   "mimetype": "text/x-python",
   "name": "python",
   "nbconvert_exporter": "python",
   "pygments_lexer": "ipython3",
   "version": "3.12.11"
  }
 },
 "nbformat": 4,
 "nbformat_minor": 5
}
